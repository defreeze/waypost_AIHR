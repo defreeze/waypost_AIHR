{
 "cells": [
  {
   "cell_type": "code",
   "execution_count": 2,
   "metadata": {},
   "outputs": [
    {
     "name": "stdout",
     "output_type": "stream",
     "text": [
      "https://portal.cloudjiffy.com/knowledgebase/knowledgebase/article/7231/setup-wordpress-multisite-network-with-domain-mapping-/\n",
      "https://portal.cloudjiffy.com/knowledgebase/knowledgebase/category/6/how-do-i-manage-environments-under-my-cloudjiffy-account-/\n",
      "https://portal.cloudjiffy.com/tickets/new\n",
      "https://portal.cloudjiffy.com/knowledgebase/billingalerts/\n",
      "https://portal.cloudjiffy.com/knowledgebase/\n",
      "https://portal.cloudjiffy.com/knowledgebase/cart/cloudjiffy-india/\n",
      "https://portal.cloudjiffy.com/support/\n",
      "https://portal.cloudjiffy.com/knowledgebase/root&action=passreminder\n",
      "https://portal.cloudjiffy.com/knowledgebase/cart/ssl-certificates--inr-/\n",
      "https://portal.cloudjiffy.com/knowledgebase/products/\n",
      "https://portal.cloudjiffy.com/clientarea/\n",
      "https://portal.cloudjiffy.com/cart/\n",
      "https://portal.cloudjiffy.com/knowledgebase/knowledgebase/article/7214/--how-do-i-manage-cronjobs-in-cloudjiffy/\n",
      "https://portal.cloudjiffy.com/knowledgebase/knowledgebase/category/8/how-do-i-set-scaling-under-my-environment-topology/\n",
      "https://portal.cloudjiffy.com/knowledgebase/signup/\n",
      "https://portal.cloudjiffy.com/knowledgebase/cart/\n",
      "https://portal.cloudjiffy.com/knowledgebase/whoislookup/\n",
      "https://portal.cloudjiffy.com/knowledgebase/knowledgebase/category/7/how-do-i-do-load-balancing-between-servers-/\n",
      "https://portal.cloudjiffy.com/knowledgebase/cart/dns-cluster/\n",
      "https://portal.cloudjiffy.com/\n",
      "https://portal.cloudjiffy.com/affiliates/\n",
      "https://portal.cloudjiffy.com/knowledgebase/status/\n",
      "https://portal.cloudjiffy.com/knowledgebase/knowledgebase/article/7221/how-to-reset-the-password-on-my-cloud-servers-from-my-client-area-/\n",
      "https://portal.cloudjiffy.com/knowledgebase/clientarea/\n",
      "https://portal.cloudjiffy.com/knowledgebase/knowledgebase/category/10/how-do-i-use-node-js-to-deploy-my-projects/\n",
      "https://portal.cloudjiffy.com/clientarea/tickets/new\n",
      "https://portal.cloudjiffy.com/knowledgebase/knowledgebase/article/7230/let-s-encrypt-ssl-add-on-with-nodejs/\n",
      "https://portal.cloudjiffy.com/knowledgebase/knowledgebase/category/9/how-do-i-deploy-my-projects-under-my-cloudjiffy-account-/\n",
      "https://portal.cloudjiffy.com/knowledgebase/knowledgebase/category/\n",
      "https://portal.cloudjiffy.com/knowledgebase/cart/cloudjiffy---managed-wordpress/\n",
      "https://portal.cloudjiffy.com/knowledgebase/knowledgebase/category/142/cloudjiffy/\n",
      "Total number of URLs: 31\n"
     ]
    }
   ],
   "source": [
    "import json\n",
    "\n",
    "with open('output.json', 'r') as infile:\n",
    "    data = json.load(infile)\n",
    "\n",
    "# print all the URLs\n",
    "for url in data.keys():\n",
    "    print(url)\n",
    "\n",
    "# print the count of URLs\n",
    "print(f\"Total number of URLs: {len(data.keys())}\")\n"
   ]
  }
 ],
 "metadata": {
  "kernelspec": {
   "display_name": "Python 3",
   "language": "python",
   "name": "python3"
  },
  "language_info": {
   "codemirror_mode": {
    "name": "ipython",
    "version": 3
   },
   "file_extension": ".py",
   "mimetype": "text/x-python",
   "name": "python",
   "nbconvert_exporter": "python",
   "pygments_lexer": "ipython3",
   "version": "3.11.3"
  },
  "orig_nbformat": 4
 },
 "nbformat": 4,
 "nbformat_minor": 2
}
